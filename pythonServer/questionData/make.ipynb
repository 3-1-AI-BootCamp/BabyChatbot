{
 "cells": [
  {
   "cell_type": "code",
   "execution_count": 1,
   "metadata": {},
   "outputs": [],
   "source": [
    "import openai\n",
    "import pandas as pd\n",
    "from tqdm import tqdm\n",
    "from dotenv import load_dotenv\n",
    "import os\n",
    "import random\n",
    "\n",
    "# .env 파일에서 OpenAI API 키 로드\n",
    "load_dotenv()\n",
    "openai.api_key = os.environ.get(\"OPENAI_API_KEY\")"
   ]
  },
  {
   "cell_type": "code",
   "execution_count": 2,
   "metadata": {},
   "outputs": [],
   "source": [
    "# 태그 목록\n",
    "tags = [\n",
    "    \"병원\", \"아기 용품\", \"의학 정보\", \"태몽\", \"사주\", \n",
    "    \"별자리 운세\", \"십이지 운세\", \"부모 고민 상담\", \n",
    "    \"예방 접종\", \"육아 보조금\", \"기타\"\n",
    "]\n",
    "\n",
    "# 조건 설정\n",
    "ages = [\"20대 후반\", \"30대 초반\", \"30대 후반\"]\n",
    "experiences = [\"초보\", \"둘째를 키우는\"]\n",
    "genders = [\"엄마\", \"아빠\"]\n",
    "child_ages = [\"0세\", \"1세\", \"2세\"]\n",
    "seasons = [\"봄\", \"여름\", \"가을\", \"겨울\"]\n",
    "special_situations = [\"일반\", \"쌍둥이\", \"장애아\", \"다문화 가정\"]\n",
    "\n",
    "# 비율 설정\n",
    "age_ratio = [1, 1, 1]\n",
    "experience_ratio = [1, 1]\n",
    "gender_ratio = [6, 4]  # 설문조사에는 8:2로 응답했으나, 데이터의 정확성 증가를 위해 6:4로 설정\n",
    "child_age_ratio = [1, 1, 1]\n",
    "season_ratio = [1, 1, 1, 1]\n",
    "special_situation_ratio = [7, 1, 1, 1]\n",
    "\n",
    "def generate_prompt(tag, age, experience, gender, child_age, season, special_situation):\n",
    "    base_prompt = (\n",
    "        f\"{age} {experience} {gender}가 {child_age} 자녀를 키우고 있습니다. \"\n",
    "        f\"현재 계절은 {season}입니다. \"\n",
    "    )\n",
    "    \n",
    "    if special_situation != \"일반\":\n",
    "        base_prompt += f\"이 가정은 {special_situation} 상황입니다. \"\n",
    "    \n",
    "    base_prompt += (\n",
    "        f\"{child_age} 자녀를 키우는 {gender}의 입장에서, {tag}에 관한 질문을 하나 생성해주세요. \"\n",
    "        f\"질문은 30자 내외로 작성하고, 최근에 겪은 특정 상황이나 문제점을 포함하며, \"\n",
    "        f\"실제 부모가 사용할 법한 자연스러운 표현으로 작성해주세요. \"\n",
    "    )\n",
    "    \n",
    "    if tag == \"태몽\":\n",
    "        base_prompt += (\n",
    "            \"태몽은 태아를 잉태하거나 낳게 될 징조의 꿈입니다. \"\n",
    "            \"임신 중이거나 임신을 계획 중인 부모의 태몽에 관한 질문을 생성해주세요. \"\n",
    "            \"예를 들어, 특정 꿈의 의미나 태몽과 실제 아이의 관계 등에 대해 물어볼 수 있습니다.\"\n",
    "        )\n",
    "    elif tag == \"사주\":\n",
    "        base_prompt += (\n",
    "            \"사주는 태어난 순간 우주로부터 부여받은 운명의 암호로, 한 사람의 생애를 담고 있는 코드입니다. \"\n",
    "            \"아이의 사주나 부모와 아이의 사주 궁합 등에 관한 질문을 생성해주세요. \"\n",
    "            \"예를 들어, 아이의 성격, 재능, 미래 등에 대해 사주를 통해 알고 싶어하는 질문을 만들 수 있습니다.\"\n",
    "        )\n",
    "    elif tag == \"별자리 운세\":\n",
    "        base_prompt += (\n",
    "            \"별자리 운세는 생년월일을 통해 역산된 별자리를 바탕으로 운세를 점치는 것입니다. \"\n",
    "            \"아이의 별자리나 부모와 아이의 별자리 관계 등에 대한 질문을 생성해주세요. \"\n",
    "            \"예를 들어, 특정 별자리의 성격 특성이나 아이의 별자리에 따른 양육 방법 등을 물어볼 수 있습니다.\"\n",
    "        )\n",
    "    elif tag == \"십이지 운세\":\n",
    "        base_prompt += (\n",
    "            \"십이지 운세는 12개의 동물 띠로 나누어 운세를 보는 방법입니다. \"\n",
    "            \"아이의 띠나 부모와 아이의 띠 궁합 등에 관한 질문을 생성해주세요. \"\n",
    "            \"예를 들어, 특정 띠의 운세나 아이의 띠에 따른 성격, 재능 등에 대해 물어볼 수 있습니다.\"\n",
    "        )\n",
    "    \n",
    "    return base_prompt\n",
    "\n",
    "# 부적절한 태그와 조건 조합 체크\n",
    "def is_valid_combination(tag, child_age):\n",
    "    invalid_combos = {\n",
    "        \"태몽\": [\"1세\", \"2세\"],\n",
    "        \"사주\": [\"0세\"],\n",
    "        \"별자리 운세\": [\"0세\"],\n",
    "        \"십이지 운세\": [\"0세\"]\n",
    "    }\n",
    "    return child_age not in invalid_combos.get(tag, [])"
   ]
  },
  {
   "cell_type": "code",
   "execution_count": 3,
   "metadata": {},
   "outputs": [
    {
     "name": "stderr",
     "output_type": "stream",
     "text": [
      "Generating questions for tag: 태몽:   0%|          | 0/100 [00:00<?, ?it/s]"
     ]
    },
    {
     "name": "stderr",
     "output_type": "stream",
     "text": [
      "Generating questions for tag: 태몽: 100%|██████████| 100/100 [02:11<00:00,  1.32s/it]\n",
      "Generating questions for tag: 사주: 100%|██████████| 100/100 [02:13<00:00,  1.34s/it]\n",
      "Generating questions for tag: 별자리 운세: 100%|██████████| 100/100 [02:19<00:00,  1.39s/it]\n",
      "Generating questions for tag: 십이지 운세: 100%|██████████| 100/100 [02:27<00:00,  1.47s/it]"
     ]
    },
    {
     "name": "stdout",
     "output_type": "stream",
     "text": [
      "Questions generation complete. Saved to 'generated_questions.csv'.\n"
     ]
    },
    {
     "name": "stderr",
     "output_type": "stream",
     "text": [
      "\n"
     ]
    },
    {
     "ename": "",
     "evalue": "",
     "output_type": "error",
     "traceback": [
      "\u001b[1;31m현재 셀 또는 이전 셀에서 코드를 실행하는 동안 Kernel이 충돌했습니다. \n",
      "\u001b[1;31m셀의 코드를 검토하여 가능한 오류 원인을 식별하세요. \n",
      "\u001b[1;31m자세한 내용을 보려면 <a href='https://aka.ms/vscodeJupyterKernelCrash'>여기</a>를 클릭하세요. \n",
      "\u001b[1;31m자세한 내용은 Jupyter <a href='command:jupyter.viewOutput'>로그</a>를 참조하세요."
     ]
    }
   ],
   "source": [
    "# 데이터 프레임 초기화\n",
    "data = []\n",
    "\n",
    "# 각 태그별로 100개의 질문 생성\n",
    "for tag in tags:\n",
    "    for _ in tqdm(range(100), desc=f\"Generating questions for tag: {tag}\"):\n",
    "        while True:\n",
    "            # 각 비율에 따라 무작위 선택\n",
    "            age = random.choices(ages, weights=age_ratio, k=1)[0]\n",
    "            experience = random.choices(experiences, weights=experience_ratio, k=1)[0]\n",
    "            gender = random.choices(genders, weights=gender_ratio, k=1)[0]\n",
    "            child_age = random.choices(child_ages, weights=child_age_ratio, k=1)[0]\n",
    "            season = random.choices(seasons, weights=season_ratio, k=1)[0]\n",
    "            special_situation = random.choices(special_situations, weights=special_situation_ratio, k=1)[0]\n",
    "            \n",
    "            # 유효한 조합인지 확인\n",
    "            if is_valid_combination(tag, child_age):\n",
    "                break\n",
    "        \n",
    "        # 프롬프트 생성\n",
    "        prompt = generate_prompt(tag, age, experience, gender, child_age, season, special_situation)\n",
    "        \n",
    "        # GPT-3.5-turbo API 호출\n",
    "        response = openai.ChatCompletion.create(\n",
    "            model=\"gpt-3.5-turbo\",\n",
    "            messages=[\n",
    "                {\"role\": \"system\", \"content\": \"You are a helpful assistant.\"},\n",
    "                {\"role\": \"user\", \"content\": prompt}\n",
    "            ],\n",
    "            max_tokens=100\n",
    "        )\n",
    "        \n",
    "        # 생성된 질문 추출\n",
    "        question = response['choices'][0]['message']['content'].strip()\n",
    "        \n",
    "        # 데이터 추가\n",
    "        data.append({\n",
    "            \"tag\": tag,\n",
    "            \"age\": age,\n",
    "            \"experience\": experience,\n",
    "            \"gender\": gender,\n",
    "            \"child_age\": child_age,\n",
    "            \"season\": season,\n",
    "            \"special_situation\": special_situation,\n",
    "            \"question\": question\n",
    "        })\n",
    "\n",
    "# 데이터 프레임 생성\n",
    "df = pd.DataFrame(data)\n",
    "\n",
    "# CSV 파일로 저장\n",
    "df.to_csv(\"generated_questions.csv\", index=False)\n",
    "\n",
    "print(\"Questions generation complete. Saved to 'generated_questions.csv'.\")"
   ]
  }
 ],
 "metadata": {
  "kernelspec": {
   "display_name": "team",
   "language": "python",
   "name": "python3"
  },
  "language_info": {
   "codemirror_mode": {
    "name": "ipython",
    "version": 3
   },
   "file_extension": ".py",
   "mimetype": "text/x-python",
   "name": "python",
   "nbconvert_exporter": "python",
   "pygments_lexer": "ipython3",
   "version": "3.12.4"
  }
 },
 "nbformat": 4,
 "nbformat_minor": 2
}
