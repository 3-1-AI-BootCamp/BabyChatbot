{
 "cells": [
  {
   "cell_type": "code",
   "execution_count": 9,
   "metadata": {},
   "outputs": [],
   "source": [
    "import openai\n",
    "import pandas as pd\n",
    "from tqdm import tqdm\n",
    "from dotenv import load_dotenv\n",
    "import os\n",
    "\n",
    "# .env 파일에서 OpenAI API 키 로드\n",
    "load_dotenv()\n",
    "openai.api_key = os.environ.get(\"OPENAI_API_KEY\")"
   ]
  },
  {
   "cell_type": "code",
   "execution_count": 10,
   "metadata": {},
   "outputs": [
    {
     "name": "stderr",
     "output_type": "stream",
     "text": [
      "  0%|          | 0/100 [00:04<?, ?it/s]\n"
     ]
    },
    {
     "ename": "IndexError",
     "evalue": "list index out of range",
     "output_type": "error",
     "traceback": [
      "\u001b[1;31m---------------------------------------------------------------------------\u001b[0m",
      "\u001b[1;31mIndexError\u001b[0m                                Traceback (most recent call last)",
      "Cell \u001b[1;32mIn[10], line 50\u001b[0m\n\u001b[0;32m     48\u001b[0m \u001b[38;5;66;03m# 점수 추출\u001b[39;00m\n\u001b[0;32m     49\u001b[0m lines \u001b[38;5;241m=\u001b[39m evaluation\u001b[38;5;241m.\u001b[39msplit(\u001b[38;5;124m'\u001b[39m\u001b[38;5;130;01m\\n\u001b[39;00m\u001b[38;5;124m'\u001b[39m)\n\u001b[1;32m---> 50\u001b[0m accuracy \u001b[38;5;241m=\u001b[39m \u001b[38;5;28mint\u001b[39m(\u001b[43mlines\u001b[49m\u001b[43m[\u001b[49m\u001b[38;5;241;43m1\u001b[39;49m\u001b[43m]\u001b[49m\u001b[38;5;241;43m.\u001b[39;49m\u001b[43msplit\u001b[49m\u001b[43m(\u001b[49m\u001b[38;5;124;43m'\u001b[39;49m\u001b[38;5;124;43m: \u001b[39;49m\u001b[38;5;124;43m'\u001b[39;49m\u001b[43m)\u001b[49m\u001b[43m[\u001b[49m\u001b[38;5;241;43m1\u001b[39;49m\u001b[43m]\u001b[49m)\n\u001b[0;32m     51\u001b[0m relevance \u001b[38;5;241m=\u001b[39m \u001b[38;5;28mint\u001b[39m(lines[\u001b[38;5;241m2\u001b[39m]\u001b[38;5;241m.\u001b[39msplit(\u001b[38;5;124m'\u001b[39m\u001b[38;5;124m: \u001b[39m\u001b[38;5;124m'\u001b[39m)[\u001b[38;5;241m1\u001b[39m])\n\u001b[0;32m     52\u001b[0m completeness \u001b[38;5;241m=\u001b[39m \u001b[38;5;28mint\u001b[39m(lines[\u001b[38;5;241m3\u001b[39m]\u001b[38;5;241m.\u001b[39msplit(\u001b[38;5;124m'\u001b[39m\u001b[38;5;124m: \u001b[39m\u001b[38;5;124m'\u001b[39m)[\u001b[38;5;241m1\u001b[39m])\n",
      "\u001b[1;31mIndexError\u001b[0m: list index out of range"
     ]
    }
   ],
   "source": [
    "# CSV 파일 읽기\n",
    "csv_file_path = 'qa_results.csv'\n",
    "df = pd.read_csv(csv_file_path)\n",
    "\n",
    "# 평가 함수 정의\n",
    "def evaluate_conversation(question, gpt4o_answer, gemma2_fine_answer):\n",
    "    messages = [\n",
    "        {\"role\": \"system\", \"content\": \"당신은 대화 평가 전문가입니다.\"},\n",
    "        {\"role\": \"user\", \"content\": f\"\"\"\n",
    "        주어진 질문과 두 대답(GPT-4.0 및 Gemma2.0)을 평가해주세요. 평가 기준은 정확성, 관련성, 완전성, 명확성 네 가지입니다.\n",
    "\n",
    "        질문: \"{question}\"\n",
    "\n",
    "        GPT-4.0의 답변: \"{gpt4o_answer}\"\n",
    "        Gemma2.0의 답변: \"{gemma2_fine_answer}\"\n",
    "\n",
    "        각 평가 기준에 대해 점수를 매겨주세요 (1-10):\n",
    "        1. 정확성 (Accuracy): \n",
    "        2. 관련성 (Relevance): \n",
    "        3. 완전성 (Completeness): \n",
    "        4. 명확성 (Clarity): \n",
    "        \"\"\"}\n",
    "    ]\n",
    "\n",
    "    response = openai.ChatCompletion.create(\n",
    "        model=\"gpt-3.5-turbo\",\n",
    "        messages=messages,\n",
    "        max_tokens=1024\n",
    "    )\n",
    "\n",
    "    return response.choices[0].message['content'].strip()\n",
    "\n",
    "# 대화 평가\n",
    "results = []\n",
    "accuracy_scores = []\n",
    "relevance_scores = []\n",
    "completeness_scores = []\n",
    "clarity_scores = []\n",
    "\n",
    "for index, row in tqdm(df.iterrows(), total=len(df)):\n",
    "    question = row['question']\n",
    "    gpt4o_answer = row['gpt4oAnswer']\n",
    "    gemma2_fine_answer = row['gemma2FineAnswer']\n",
    "    \n",
    "    evaluation = evaluate_conversation(question, gpt4o_answer, gemma2_fine_answer)\n",
    "    results.append(evaluation)\n",
    "\n",
    "    # 점수 추출\n",
    "    lines = evaluation.split('\\n')\n",
    "    accuracy = int(lines[1].split(': ')[1])\n",
    "    relevance = int(lines[2].split(': ')[1])\n",
    "    completeness = int(lines[3].split(': ')[1])\n",
    "    clarity = int(lines[4].split(': ')[1])\n",
    "    \n",
    "    accuracy_scores.append(accuracy)\n",
    "    relevance_scores.append(relevance)\n",
    "    completeness_scores.append(completeness)\n",
    "    clarity_scores.append(clarity)\n",
    "\n",
    "# 평가 결과 저장\n",
    "df['evaluation'] = results\n",
    "df['accuracy'] = accuracy_scores\n",
    "df['relevance'] = relevance_scores\n",
    "df['completeness'] = completeness_scores\n",
    "df['clarity'] = clarity_scores\n",
    "df.to_csv('qa_evaluation_results.csv', index=False)\n",
    "\n",
    "# 화면에 점수 출력\n",
    "print(\"\\n평가 완료. 평가 결과는 'qa_evaluation_results.csv' 파일에 저장되었습니다.\")\n",
    "print(f\"정확성 (평균): {sum(accuracy_scores) / len(accuracy_scores):.2f}\")\n",
    "print(f\"관련성 (평균): {sum(relevance_scores) / len(relevance_scores):.2f}\")\n",
    "print(f\"완전성 (평균): {sum(completeness_scores) / len(completeness_scores):.2f}\")\n",
    "print(f\"명확성 (평균): {sum(clarity_scores) / len(clarity_scores):.2f}\")"
   ]
  }
 ],
 "metadata": {
  "kernelspec": {
   "display_name": "team",
   "language": "python",
   "name": "python3"
  },
  "language_info": {
   "codemirror_mode": {
    "name": "ipython",
    "version": 3
   },
   "file_extension": ".py",
   "mimetype": "text/x-python",
   "name": "python",
   "nbconvert_exporter": "python",
   "pygments_lexer": "ipython3",
   "version": "3.12.4"
  }
 },
 "nbformat": 4,
 "nbformat_minor": 2
}
