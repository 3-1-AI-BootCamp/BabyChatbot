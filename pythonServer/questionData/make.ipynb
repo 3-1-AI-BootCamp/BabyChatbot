{
 "cells": [
  {
   "cell_type": "code",
   "execution_count": 1,
   "metadata": {},
   "outputs": [],
   "source": [
    "import openai\n",
    "import pandas as pd\n",
    "from tqdm import tqdm\n",
    "from dotenv import load_dotenv\n",
    "import os\n",
    "import random\n",
    "\n",
    "# .env 파일에서 OpenAI API 키 로드\n",
    "load_dotenv()\n",
    "openai.api_key = os.environ.get(\"OPENAI_API_KEY\")"
   ]
  },
  {
   "cell_type": "code",
   "execution_count": 2,
   "metadata": {},
   "outputs": [],
   "source": [
    "# 태그 목록\n",
    "tags = [\n",
    "    \"병원\", \"육아 상담\"\n",
    "]\n",
    "\n",
    "# 조건 설정\n",
    "ages = [\"20대 후반\", \"30대 초반\", \"30대 후반\"]\n",
    "experiences = [\"초보\", \"둘째를 키우는\"]\n",
    "genders = [\"엄마\", \"아빠\"]\n",
    "child_ages = [\"0세\", \"1세\", \"2세\"]\n",
    "seasons = [\"봄\", \"여름\", \"가을\", \"겨울\"]\n",
    "special_situations = [\"일반\", \"쌍둥이\", \"장애아\", \"다문화 가정\"]\n",
    "\n",
    "# 비율 설정\n",
    "age_ratio = [1, 1, 1]\n",
    "experience_ratio = [1, 1]\n",
    "gender_ratio = [6, 4]\n",
    "child_age_ratio = [1, 1, 1]\n",
    "season_ratio = [1, 1, 1, 1]\n",
    "special_situation_ratio = [7, 1, 1, 1]\n",
    "\n",
    "def generate_prompt(tag, age, experience, gender, child_age, season, special_situation):\n",
    "    base_prompt = (\n",
    "        f\"{age} {experience} {gender}가 {child_age} 자녀를 키우고 있습니다. \"\n",
    "        f\"현재 계절은 {season}입니다. \"\n",
    "    )\n",
    "    \n",
    "    if special_situation != \"일반\":\n",
    "        base_prompt += f\"이 가정은 {special_situation} 상황입니다. \"\n",
    "    \n",
    "    if tag == \"병원\":\n",
    "        base_prompt += (\n",
    "            f\"{child_age} 자녀를 키우는 {gender}의 입장에서, 병원 위치, 병원 정보, \"\n",
    "            f\"또는 급한 병원 방문이 필요한 상황에 대한 질문을 하나 생성해주세요. \"\n",
    "            f\"질문에는 반드시 '병원' 키워드가 포함되어야 합니다. \"\n",
    "            f\"육아 상담 태그와 헷갈리지 않는 질문이어야 합니다.\"\n",
    "        )\n",
    "    elif tag == \"육아 상담\":\n",
    "        base_prompt += (\n",
    "            f\"{child_age} 자녀를 키우는 {gender}의 입장에서, 아이의 행동이나 발달에 대한 조언을 구하는 질문을 하나 생성해주세요. \"\n",
    "            f\"질문은 급하지 않은 일상적인 육아 고민이어야 합니다. \"\n",
    "            f\"병원 태그와 헷갈리지 않는 질문이어야 합니다.\"\n",
    "        )\n",
    "    \n",
    "    base_prompt += (\n",
    "        f\"질문은 30자 내외로 작성하고, 최근에 겪은 특정 상황이나 문제점을 포함하며, \"\n",
    "        f\"실제 부모가 사용할 법한 자연스러운 표현으로 작성해주세요. \"\n",
    "    )\n",
    "    \n",
    "    return base_prompt"
   ]
  },
  {
   "cell_type": "code",
   "execution_count": 3,
   "metadata": {},
   "outputs": [
    {
     "name": "stderr",
     "output_type": "stream",
     "text": [
      "Generating questions for tag: 병원:   0%|          | 0/100 [00:00<?, ?it/s]"
     ]
    },
    {
     "name": "stderr",
     "output_type": "stream",
     "text": [
      "Generating questions for tag: 병원: 100%|██████████| 100/100 [01:47<00:00,  1.08s/it]\n",
      "Generating questions for tag: 육아 상담: 100%|██████████| 100/100 [01:51<00:00,  1.12s/it]"
     ]
    },
    {
     "name": "stdout",
     "output_type": "stream",
     "text": [
      "Questions generation complete. Saved to 'generated_questions.csv'.\n"
     ]
    },
    {
     "name": "stderr",
     "output_type": "stream",
     "text": [
      "\n"
     ]
    }
   ],
   "source": [
    "# 데이터 프레임 초기화\n",
    "data = []\n",
    "\n",
    "# 각 태그별로 100개의 질문 생성\n",
    "for tag in tags:\n",
    "    for _ in tqdm(range(100), desc=f\"Generating questions for tag: {tag}\"):\n",
    "        while True:\n",
    "            # 각 비율에 따라 무작위 선택\n",
    "            age = random.choices(ages, weights=age_ratio, k=1)[0]\n",
    "            experience = random.choices(experiences, weights=experience_ratio, k=1)[0]\n",
    "            gender = random.choices(genders, weights=gender_ratio, k=1)[0]\n",
    "            child_age = random.choices(child_ages, weights=child_age_ratio, k=1)[0]\n",
    "            season = random.choices(seasons, weights=season_ratio, k=1)[0]\n",
    "            special_situation = random.choices(special_situations, weights=special_situation_ratio, k=1)[0]\n",
    "            \n",
    "            # 프롬프트 생성\n",
    "            prompt = generate_prompt(tag, age, experience, gender, child_age, season, special_situation)\n",
    "            \n",
    "            # GPT-3.5-turbo API 호출\n",
    "            response = openai.ChatCompletion.create(\n",
    "                model=\"gpt-3.5-turbo\",\n",
    "                messages=[\n",
    "                    {\"role\": \"system\", \"content\": \"You are a helpful assistant.\"},\n",
    "                    {\"role\": \"user\", \"content\": prompt}\n",
    "                ],\n",
    "                max_tokens=100\n",
    "            )\n",
    "            \n",
    "            # 생성된 질문 추출\n",
    "            question = response['choices'][0]['message']['content'].strip()\n",
    "            \n",
    "            # 태그에 맞는 질문인지 확인\n",
    "            if tag == \"병원\" and \"병원\" in question:\n",
    "                break\n",
    "            elif tag == \"육아 상담\" and \"병원\" not in question:\n",
    "                break\n",
    "        \n",
    "        # 데이터 추가\n",
    "        data.append({\n",
    "            \"tag\": tag,\n",
    "            \"age\": age,\n",
    "            \"experience\": experience,\n",
    "            \"gender\": gender,\n",
    "            \"child_age\": child_age,\n",
    "            \"season\": season,\n",
    "            \"special_situation\": special_situation,\n",
    "            \"question\": question\n",
    "        })\n",
    "\n",
    "# 데이터 프레임 생성\n",
    "df = pd.DataFrame(data)\n",
    "\n",
    "# CSV 파일로 저장\n",
    "df.to_csv(\"generated_questions.csv\", index=False)\n",
    "\n",
    "print(\"Questions generation complete. Saved to 'generated_questions.csv'.\")"
   ]
  },
  {
   "cell_type": "code",
   "execution_count": 5,
   "metadata": {},
   "outputs": [
    {
     "name": "stdout",
     "output_type": "stream",
     "text": [
      "CSV 파일이 성공적으로 생성되었습니다. 'merged_data.csv' 파일을 확인해주세요.\n"
     ]
    }
   ],
   "source": [
    "import pandas as pd\n",
    "import random\n",
    "\n",
    "# processed_data.csv에서 '병원' 또는 '의학 정보' 태그 삭제\n",
    "processed_data = pd.read_csv('processed_data.csv')\n",
    "processed_data = processed_data[~processed_data['tag'].isin(['병원', '의학 정보'])]\n",
    "\n",
    "# qq.csv에서 '병원' 태그 행 추출\n",
    "qq_data = pd.read_csv('qq.csv')\n",
    "qq_filtered = qq_data[qq_data['tag'] == '병원']\n",
    "\n",
    "# aa.csv에서 question 열에서 랜덤으로 100개 추출 및 태그 추가\n",
    "aa_data = pd.read_csv('aa.csv')\n",
    "aa_sampled = aa_data.sample(n=100, random_state=1)  # 랜덤 시드로 재현 가능하게 설정\n",
    "aa_sampled['tag'] = '육아 의학 상담'\n",
    "\n",
    "# 최종 데이터프레임 합치기\n",
    "final_data = pd.concat([processed_data, qq_filtered, aa_sampled[['tag', 'question']]], ignore_index=True)\n",
    "\n",
    "# CSV 파일로 저장\n",
    "final_data.to_csv('merged_data.csv', index=False)\n",
    "\n",
    "print(\"CSV 파일이 성공적으로 생성되었습니다. 'merged_data.csv' 파일을 확인해주세요.\")\n"
   ]
  }
 ],
 "metadata": {
  "kernelspec": {
   "display_name": "team",
   "language": "python",
   "name": "python3"
  },
  "language_info": {
   "codemirror_mode": {
    "name": "ipython",
    "version": 3
   },
   "file_extension": ".py",
   "mimetype": "text/x-python",
   "name": "python",
   "nbconvert_exporter": "python",
   "pygments_lexer": "ipython3",
   "version": "3.12.4"
  }
 },
 "nbformat": 4,
 "nbformat_minor": 2
}
