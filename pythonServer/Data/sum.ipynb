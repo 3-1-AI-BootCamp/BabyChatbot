{
 "cells": [
  {
   "cell_type": "code",
   "execution_count": 2,
   "metadata": {},
   "outputs": [],
   "source": [
    "import pandas as pd\n",
    "\n",
    "# 파일 읽기\n",
    "output_df = pd.read_csv('output.csv')\n",
    "a_df = pd.read_csv('a.csv')\n",
    "\n",
    "# 필요한 열 추출\n",
    "filtered_answer = output_df['filtered_answer']\n",
    "question = a_df['question']\n",
    "\n",
    "# 새로운 데이터프레임으로 병합\n",
    "merged_df = pd.DataFrame({\n",
    "    'question': question,\n",
    "    'filtered_answer': filtered_answer\n",
    "\n",
    "})\n",
    "\n",
    "# 병합된 데이터프레임을 새로운 CSV 파일로 저장\n",
    "merged_df.to_csv('merged_output.csv', index=False)\n"
   ]
  },
  {
   "cell_type": "code",
   "execution_count": 3,
   "metadata": {},
   "outputs": [
    {
     "name": "stdout",
     "output_type": "stream",
     "text": [
      "정제가 완료되었습니다. 정제된 파일은 momcafe_cleaned.csv에 저장되었습니다.\n"
     ]
    }
   ],
   "source": [
    "import csv\n",
    "\n",
    "# 파일 읽기 및 정제\n",
    "input_file = 'momcafe.csv'\n",
    "output_file = 'momcafe_cleaned.csv'\n",
    "\n",
    "with open(input_file, 'r', encoding='utf-8') as infile, open(output_file, 'w', newline='', encoding='utf-8') as outfile:\n",
    "    reader = csv.reader(infile)\n",
    "    writer = csv.writer(outfile)\n",
    "\n",
    "    for row in reader:\n",
    "        cleaned_row = [cell.replace('\\n', ' ').replace('\\r', ' ').strip() for cell in row]\n",
    "        writer.writerow(cleaned_row)\n",
    "\n",
    "print(f\"정제가 완료되었습니다. 정제된 파일은 {output_file}에 저장되었습니다.\")\n"
   ]
  }
 ],
 "metadata": {
  "kernelspec": {
   "display_name": "team",
   "language": "python",
   "name": "python3"
  },
  "language_info": {
   "codemirror_mode": {
    "name": "ipython",
    "version": 3
   },
   "file_extension": ".py",
   "mimetype": "text/x-python",
   "name": "python",
   "nbconvert_exporter": "python",
   "pygments_lexer": "ipython3",
   "version": "3.12.4"
  }
 },
 "nbformat": 4,
 "nbformat_minor": 2
}
