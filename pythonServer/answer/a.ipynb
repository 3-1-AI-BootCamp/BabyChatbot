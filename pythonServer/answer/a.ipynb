{
 "cells": [
  {
   "cell_type": "code",
   "execution_count": 3,
   "metadata": {},
   "outputs": [],
   "source": [
    "import pandas as pd\n",
    "\n",
    "# Load the two CSV files\n",
    "gemma2_df = pd.read_csv('qa_results_gemma2_instruction.csv')\n",
    "gpt4o_df = pd.read_csv('qa_results_gpt4o.csv')\n",
    "\n",
    "# Merge the two DataFrames on the 'question' column\n",
    "merged_df = pd.merge(gpt4o_df, gemma2_df, on='question', suffixes=('_gpt4o', '_gemma2'))\n",
    "\n",
    "# Select the necessary columns and rename them accordingly\n",
    "merged_df = merged_df[['question', 'answer_gpt4o', 'answer_gemma2']]\n",
    "merged_df.columns = ['question', 'gpt4oAnswer', 'gemma2FineAnswer']\n",
    "\n",
    "# Save the merged DataFrame to a new CSV file\n",
    "merged_df.to_csv('merged_qa_results.csv', index=False, encoding='utf-8-sig')\n"
   ]
  }
 ],
 "metadata": {
  "kernelspec": {
   "display_name": "team",
   "language": "python",
   "name": "python3"
  },
  "language_info": {
   "codemirror_mode": {
    "name": "ipython",
    "version": 3
   },
   "file_extension": ".py",
   "mimetype": "text/x-python",
   "name": "python",
   "nbconvert_exporter": "python",
   "pygments_lexer": "ipython3",
   "version": "3.12.4"
  }
 },
 "nbformat": 4,
 "nbformat_minor": 2
}
