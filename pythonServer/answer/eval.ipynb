{
 "cells": [
  {
   "cell_type": "code",
   "execution_count": 1,
   "metadata": {},
   "outputs": [],
   "source": [
    "import openai\n",
    "import pandas as pd\n",
    "from dotenv import load_dotenv\n",
    "import os\n",
    "\n",
    "# .env 파일에서 OpenAI API 키 로드\n",
    "load_dotenv()\n",
    "openai.api_key = os.environ.get(\"OPENAI_API_KEY\")"
   ]
  },
  {
   "cell_type": "code",
   "execution_count": 4,
   "metadata": {},
   "outputs": [
    {
     "name": "stdout",
     "output_type": "stream",
     "text": [
      "평가 완료. 평가 결과는 'qa_evaluation_results.csv' 파일에 저장되었습니다.\n"
     ]
    }
   ],
   "source": [
    "# CSV 파일 읽기\n",
    "csv_file_path = 'qa_results.csv'\n",
    "df = pd.read_csv(csv_file_path)\n",
    "\n",
    "# 평가 함수 정의\n",
    "def evaluate_conversation(question, gpt4o_answer, gemma2_fine_answer):\n",
    "    messages = [\n",
    "        {\"role\": \"system\", \"content\": \"당신은 대화 평가 전문가입니다.\"},\n",
    "        {\"role\": \"user\", \"content\": f\"\"\"\n",
    "        주어진 질문과 두 대답(GPT-4.0 및 Gemma2.0)을 평가해주세요. 평가 기준은 정확성, 관련성, 완전성, 명확성 네 가지입니다.\n",
    "\n",
    "        질문: \"{question}\"\n",
    "\n",
    "        GPT-4.0의 답변: \"{gpt4o_answer}\"\n",
    "        Gemma2.0의 답변: \"{gemma2_fine_answer}\"\n",
    "\n",
    "        각 평가 기준에 대해 점수를 매겨주세요 (1-10):\n",
    "        1. 정확성 (Accuracy): \n",
    "        2. 관련성 (Relevance): \n",
    "        3. 완전성 (Completeness): \n",
    "        4. 명확성 (Clarity): \n",
    "        \"\"\"}\n",
    "    ]\n",
    "\n",
    "    response = openai.ChatCompletion.create(\n",
    "        model=\"gpt-3.5-turbo\",\n",
    "        messages=messages,\n",
    "        max_tokens=150\n",
    "    )\n",
    "\n",
    "    return response.choices[0].message['content'].strip()\n",
    "\n",
    "# 대화 평가\n",
    "results = []\n",
    "for index, row in df.iterrows():\n",
    "    question = row['question']\n",
    "    gpt4o_answer = row['gpt4oAnswer']\n",
    "    gemma2_fine_answer = row['gemma2FineAnswer']\n",
    "    \n",
    "    evaluation = evaluate_conversation(question, gpt4o_answer, gemma2_fine_answer)\n",
    "    results.append(evaluation)\n",
    "\n",
    "# 평가 결과 저장\n",
    "df['evaluation'] = results\n",
    "df.to_csv('qa_evaluation_results.csv', index=False)\n",
    "\n",
    "print(\"평가 완료. 평가 결과는 'qa_evaluation_results.csv' 파일에 저장되었습니다.\")"
   ]
  }
 ],
 "metadata": {
  "kernelspec": {
   "display_name": "team",
   "language": "python",
   "name": "python3"
  },
  "language_info": {
   "codemirror_mode": {
    "name": "ipython",
    "version": 3
   },
   "file_extension": ".py",
   "mimetype": "text/x-python",
   "name": "python",
   "nbconvert_exporter": "python",
   "pygments_lexer": "ipython3",
   "version": "3.12.4"
  }
 },
 "nbformat": 4,
 "nbformat_minor": 2
}
