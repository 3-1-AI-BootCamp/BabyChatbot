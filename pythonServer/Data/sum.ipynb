{
 "cells": [
  {
   "cell_type": "code",
   "execution_count": null,
   "metadata": {},
   "outputs": [],
   "source": [
    "import pandas as pd\n",
    "\n",
    "# CSV 파일을 읽어옵니다.\n",
    "df = pd.read_csv('crawled_articles_5924.csv')\n",
    "\n",
    "# 'comments' 열이 '[]'인 행의 개수를 셉니다.\n",
    "empty_comments_count = df[df['comments'] == '[]'].shape[0]\n",
    "print(f\"Number of rows with empty comments: {empty_comments_count}\")\n",
    "\n",
    "# 'comments' 열이 '[]'인 행을 삭제합니다.\n",
    "df_cleaned = df[df['comments'] != '[]']\n",
    "\n",
    "# 결과를 새로운 CSV 파일로 저장합니다.\n",
    "df_cleaned.to_csv('crawled_articles_5924_cleaned.csv', index=False)\n"
   ]
  }
 ],
 "metadata": {
  "kernelspec": {
   "display_name": "team",
   "language": "python",
   "name": "python3"
  },
  "language_info": {
   "name": "python",
   "version": "3.12.4"
  }
 },
 "nbformat": 4,
 "nbformat_minor": 2
}
