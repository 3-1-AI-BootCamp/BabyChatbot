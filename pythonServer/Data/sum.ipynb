{
 "cells": [
  {
   "cell_type": "code",
   "execution_count": 2,
   "metadata": {},
   "outputs": [],
   "source": [
    "import pandas as pd\n",
    "\n",
    "# 파일 읽기\n",
    "output_df = pd.read_csv('output.csv')\n",
    "a_df = pd.read_csv('a.csv')\n",
    "\n",
    "# 필요한 열 추출\n",
    "filtered_answer = output_df['filtered_answer']\n",
    "question = a_df['question']\n",
    "\n",
    "# 새로운 데이터프레임으로 병합\n",
    "merged_df = pd.DataFrame({\n",
    "    'question': question,\n",
    "    'filtered_answer': filtered_answer\n",
    "\n",
    "})\n",
    "\n",
    "# 병합된 데이터프레임을 새로운 CSV 파일로 저장\n",
    "merged_df.to_csv('merged_output.csv', index=False)\n"
   ]
  },
  {
   "cell_type": "code",
   "execution_count": 3,
   "metadata": {},
   "outputs": [
    {
     "name": "stdout",
     "output_type": "stream",
     "text": [
      "정제가 완료되었습니다. 정제된 파일은 momcafe_cleaned.csv에 저장되었습니다.\n"
     ]
    }
   ],
   "source": [
    "import csv\n",
    "\n",
    "# 파일 읽기 및 정제\n",
    "input_file = 'momcafe.csv'\n",
    "output_file = 'momcafe_cleaned.csv'\n",
    "\n",
    "with open(input_file, 'r', encoding='utf-8') as infile, open(output_file, 'w', newline='', encoding='utf-8') as outfile:\n",
    "    reader = csv.reader(infile)\n",
    "    writer = csv.writer(outfile)\n",
    "\n",
    "    for row in reader:\n",
    "        cleaned_row = [cell.replace('\\n', ' ').replace('\\r', ' ').strip() for cell in row]\n",
    "        writer.writerow(cleaned_row)\n",
    "\n",
    "print(f\"정제가 완료되었습니다. 정제된 파일은 {output_file}에 저장되었습니다.\")\n"
   ]
  },
  {
   "cell_type": "code",
   "execution_count": 1,
   "metadata": {},
   "outputs": [
    {
     "name": "stdout",
     "output_type": "stream",
     "text": [
      "Data cleaning complete. The cleaned data is saved as 'cleaned_data.csv'.\n"
     ]
    }
   ],
   "source": [
    "import pandas as pd\n",
    "import numpy as np\n",
    "\n",
    "# 데이터 읽기\n",
    "df = pd.read_csv('data.csv')\n",
    "\n",
    "# '별자리 운세'와 '십이지 운세' 필터링\n",
    "horoscope_df = df[df['tag'] == '별자리 운세']\n",
    "zodiac_df = df[df['tag'] == '십이지 운세']\n",
    "\n",
    "# 랜덤으로 50개씩 선택\n",
    "horoscope_sample = horoscope_df.sample(n=50, random_state=1)\n",
    "zodiac_sample = zodiac_df.sample(n=50, random_state=1)\n",
    "\n",
    "# 선택한 샘플 데이터프레임 합치기\n",
    "selected_df = pd.concat([horoscope_sample, zodiac_sample])\n",
    "\n",
    "# 태그 이름을 '운세'로 변경\n",
    "selected_df['tag'] = '운세'\n",
    "\n",
    "# 원본 데이터프레임에서 '별자리 운세'와 '십이지 운세' 태그 제거\n",
    "df = df[~df['tag'].isin(['별자리 운세', '십이지 운세'])]\n",
    "\n",
    "# 정제된 데이터프레임에 선택된 데이터프레임 추가\n",
    "final_df = pd.concat([df, selected_df])\n",
    "\n",
    "# 데이터 저장\n",
    "final_df.to_csv('cleaned_data.csv', index=False)\n",
    "\n",
    "print(\"Data cleaning complete. The cleaned data is saved as 'cleaned_data.csv'.\")\n"
   ]
  }
 ],
 "metadata": {
  "kernelspec": {
   "display_name": "team",
   "language": "python",
   "name": "python3"
  },
  "language_info": {
   "codemirror_mode": {
    "name": "ipython",
    "version": 3
   },
   "file_extension": ".py",
   "mimetype": "text/x-python",
   "name": "python",
   "nbconvert_exporter": "python",
   "pygments_lexer": "ipython3",
   "version": "3.12.4"
  }
 },
 "nbformat": 4,
 "nbformat_minor": 2
}
